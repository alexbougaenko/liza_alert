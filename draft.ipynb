{
 "cells": [
  {
   "cell_type": "code",
   "execution_count": 12,
   "metadata": {
    "collapsed": true
   },
   "outputs": [],
   "source": [
    "import pandas as pd\n",
    "import json"
   ]
  },
  {
   "cell_type": "code",
   "execution_count": 2,
   "outputs": [],
   "source": [
    "df = pd.read_csv('data/train.csv')"
   ],
   "metadata": {
    "collapsed": false
   }
  },
  {
   "cell_type": "code",
   "execution_count": 28,
   "outputs": [
    {
     "data": {
      "text/plain": "        ID_img  count_region  \\\n399   3835.JPG           2.0   \n855   4291.JPG           2.0   \n1029  4465.JPG           2.0   \n1168  4604.JPG           2.0   \n1344  4780.JPG           2.0   \n1452  4888.JPG           2.0   \n1498  4934.JPG           2.0   \n1629  5065.JPG           2.0   \n1755  5191.JPG           2.0   \n1841  5277.JPG           2.0   \n1878  5314.JPG           2.0   \n2042  5478.JPG           2.0   \n2388  5824.JPG           2.0   \n2669  6105.JPG           2.0   \n2710  6146.JPG           2.0   \n2717  6153.JPG           2.0   \n2785  6221.JPG           2.0   \n2797  6233.JPG           2.0   \n2932  6368.JPG           2.0   \n3418  6854.JPG           2.0   \n3472  6908.JPG           2.0   \n3475  6911.JPG           2.0   \n3613  7049.JPG           2.0   \n3642  7078.JPG           2.0   \n4141  7577.JPG           2.0   \n4286  7722.JPG           2.0   \n4667  8103.JPG           2.0   \n4711  8147.JPG           2.0   \n4821  8257.JPG           2.0   \n4944  8380.JPG           2.0   \n5071  8507.JPG           2.0   \n\n                                           region_shape  \n399   ['{\"cx\":2549,\"cy\":2329,\"r\":80}', '{\"cx\":2437,\"...  \n855   ['{\"cx\":3467,\"cy\":1740,\"r\":77}', '{\"cx\":3587,\"...  \n1029  ['{\"cx\":2735,\"cy\":1711,\"r\":102}', '{\"cx\":2430,...  \n1168  ['{\"cx\":3276,\"cy\":1619,\"r\":130}', '{\"cx\":3114,...  \n1344  ['{\"cx\":3898,\"cy\":988,\"r\":123}', '{\"cx\":3309,\"...  \n1452  ['{\"cx\":2188,\"cy\":244,\"r\":91}', '{\"cx\":2237,\"c...  \n1498  ['{\"cx\":2890,\"cy\":775,\"r\":110}', '{\"cx\":3045,\"...  \n1629  ['{\"cx\":1167,\"cy\":1568,\"r\":36}', '{\"cx\":1268,\"...  \n1755  ['{\"cx\":2346,\"cy\":2840,\"r\":93}', '{\"cx\":2217,\"...  \n1841  ['{\"cx\":3321,\"cy\":924,\"r\":50}', '{\"cx\":3277,\"c...  \n1878  ['{\"cx\":2566,\"cy\":1250,\"r\":121}', '{\"cx\":2616,...  \n2042  ['{\"cx\":3135,\"cy\":1827,\"r\":121}', '{\"cx\":3006,...  \n2388  ['{\"cx\":2902,\"cy\":1824,\"r\":102}', '{\"cx\":2854,...  \n2669  ['{\"cx\":2807,\"cy\":1603,\"r\":84}', '{\"cx\":2736,\"...  \n2710  ['{\"cx\":3226,\"cy\":1030,\"r\":94.856}', '{\"cx\":33...  \n2717  ['{\"cx\":2193,\"cy\":2053,\"r\":95}', '{\"cx\":2092,\"...  \n2785  ['{\"cx\":3193,\"cy\":1715,\"r\":88}', '{\"cx\":3394,\"...  \n2797  ['{\"cx\":4197,\"cy\":1489,\"r\":87}', '{\"cx\":4299,\"...  \n2932  ['{\"cx\":1553,\"cy\":2047,\"r\":103}', '{\"cx\":2105,...  \n3418  ['{\"cx\":2782,\"cy\":934,\"r\":110}', '{\"cx\":2246,\"...  \n3472  ['{\"cx\":2363,\"cy\":1655,\"r\":126}', '{\"cx\":2314,...  \n3475  ['{\"cx\":2894,\"cy\":1229,\"r\":124.898}', '{\"cx\":2...  \n3613  ['{\"cx\":2678,\"cy\":1486,\"r\":97}', '{\"cx\":2736,\"...  \n3642  ['{\"cx\":3404,\"cy\":3006,\"r\":80}', '{\"cx\":3284,\"...  \n4141  ['{\"cx\":1731,\"cy\":1154,\"r\":111}', '{\"cx\":1869,...  \n4286  ['{\"cx\":2196,\"cy\":108,\"r\":91}', '{\"cx\":2039,\"c...  \n4667  ['{\"cx\":2217,\"cy\":2076,\"r\":92}', '{\"cx\":1976,\"...  \n4711  ['{\"cx\":2271,\"cy\":1760,\"r\":74.847}', '{\"cx\":22...  \n4821  ['{\"cx\":2537,\"cy\":2267,\"r\":100}', '{\"cx\":2653,...  \n4944  ['{\"cx\":2177,\"cy\":1482,\"r\":74}', '{\"cx\":2359,\"...  \n5071  ['{\"cx\":2869,\"cy\":1167,\"r\":82}', '{\"cx\":2973,\"...  ",
      "text/html": "<div>\n<style scoped>\n    .dataframe tbody tr th:only-of-type {\n        vertical-align: middle;\n    }\n\n    .dataframe tbody tr th {\n        vertical-align: top;\n    }\n\n    .dataframe thead th {\n        text-align: right;\n    }\n</style>\n<table border=\"1\" class=\"dataframe\">\n  <thead>\n    <tr style=\"text-align: right;\">\n      <th></th>\n      <th>ID_img</th>\n      <th>count_region</th>\n      <th>region_shape</th>\n    </tr>\n  </thead>\n  <tbody>\n    <tr>\n      <th>399</th>\n      <td>3835.JPG</td>\n      <td>2.0</td>\n      <td>['{\"cx\":2549,\"cy\":2329,\"r\":80}', '{\"cx\":2437,\"...</td>\n    </tr>\n    <tr>\n      <th>855</th>\n      <td>4291.JPG</td>\n      <td>2.0</td>\n      <td>['{\"cx\":3467,\"cy\":1740,\"r\":77}', '{\"cx\":3587,\"...</td>\n    </tr>\n    <tr>\n      <th>1029</th>\n      <td>4465.JPG</td>\n      <td>2.0</td>\n      <td>['{\"cx\":2735,\"cy\":1711,\"r\":102}', '{\"cx\":2430,...</td>\n    </tr>\n    <tr>\n      <th>1168</th>\n      <td>4604.JPG</td>\n      <td>2.0</td>\n      <td>['{\"cx\":3276,\"cy\":1619,\"r\":130}', '{\"cx\":3114,...</td>\n    </tr>\n    <tr>\n      <th>1344</th>\n      <td>4780.JPG</td>\n      <td>2.0</td>\n      <td>['{\"cx\":3898,\"cy\":988,\"r\":123}', '{\"cx\":3309,\"...</td>\n    </tr>\n    <tr>\n      <th>1452</th>\n      <td>4888.JPG</td>\n      <td>2.0</td>\n      <td>['{\"cx\":2188,\"cy\":244,\"r\":91}', '{\"cx\":2237,\"c...</td>\n    </tr>\n    <tr>\n      <th>1498</th>\n      <td>4934.JPG</td>\n      <td>2.0</td>\n      <td>['{\"cx\":2890,\"cy\":775,\"r\":110}', '{\"cx\":3045,\"...</td>\n    </tr>\n    <tr>\n      <th>1629</th>\n      <td>5065.JPG</td>\n      <td>2.0</td>\n      <td>['{\"cx\":1167,\"cy\":1568,\"r\":36}', '{\"cx\":1268,\"...</td>\n    </tr>\n    <tr>\n      <th>1755</th>\n      <td>5191.JPG</td>\n      <td>2.0</td>\n      <td>['{\"cx\":2346,\"cy\":2840,\"r\":93}', '{\"cx\":2217,\"...</td>\n    </tr>\n    <tr>\n      <th>1841</th>\n      <td>5277.JPG</td>\n      <td>2.0</td>\n      <td>['{\"cx\":3321,\"cy\":924,\"r\":50}', '{\"cx\":3277,\"c...</td>\n    </tr>\n    <tr>\n      <th>1878</th>\n      <td>5314.JPG</td>\n      <td>2.0</td>\n      <td>['{\"cx\":2566,\"cy\":1250,\"r\":121}', '{\"cx\":2616,...</td>\n    </tr>\n    <tr>\n      <th>2042</th>\n      <td>5478.JPG</td>\n      <td>2.0</td>\n      <td>['{\"cx\":3135,\"cy\":1827,\"r\":121}', '{\"cx\":3006,...</td>\n    </tr>\n    <tr>\n      <th>2388</th>\n      <td>5824.JPG</td>\n      <td>2.0</td>\n      <td>['{\"cx\":2902,\"cy\":1824,\"r\":102}', '{\"cx\":2854,...</td>\n    </tr>\n    <tr>\n      <th>2669</th>\n      <td>6105.JPG</td>\n      <td>2.0</td>\n      <td>['{\"cx\":2807,\"cy\":1603,\"r\":84}', '{\"cx\":2736,\"...</td>\n    </tr>\n    <tr>\n      <th>2710</th>\n      <td>6146.JPG</td>\n      <td>2.0</td>\n      <td>['{\"cx\":3226,\"cy\":1030,\"r\":94.856}', '{\"cx\":33...</td>\n    </tr>\n    <tr>\n      <th>2717</th>\n      <td>6153.JPG</td>\n      <td>2.0</td>\n      <td>['{\"cx\":2193,\"cy\":2053,\"r\":95}', '{\"cx\":2092,\"...</td>\n    </tr>\n    <tr>\n      <th>2785</th>\n      <td>6221.JPG</td>\n      <td>2.0</td>\n      <td>['{\"cx\":3193,\"cy\":1715,\"r\":88}', '{\"cx\":3394,\"...</td>\n    </tr>\n    <tr>\n      <th>2797</th>\n      <td>6233.JPG</td>\n      <td>2.0</td>\n      <td>['{\"cx\":4197,\"cy\":1489,\"r\":87}', '{\"cx\":4299,\"...</td>\n    </tr>\n    <tr>\n      <th>2932</th>\n      <td>6368.JPG</td>\n      <td>2.0</td>\n      <td>['{\"cx\":1553,\"cy\":2047,\"r\":103}', '{\"cx\":2105,...</td>\n    </tr>\n    <tr>\n      <th>3418</th>\n      <td>6854.JPG</td>\n      <td>2.0</td>\n      <td>['{\"cx\":2782,\"cy\":934,\"r\":110}', '{\"cx\":2246,\"...</td>\n    </tr>\n    <tr>\n      <th>3472</th>\n      <td>6908.JPG</td>\n      <td>2.0</td>\n      <td>['{\"cx\":2363,\"cy\":1655,\"r\":126}', '{\"cx\":2314,...</td>\n    </tr>\n    <tr>\n      <th>3475</th>\n      <td>6911.JPG</td>\n      <td>2.0</td>\n      <td>['{\"cx\":2894,\"cy\":1229,\"r\":124.898}', '{\"cx\":2...</td>\n    </tr>\n    <tr>\n      <th>3613</th>\n      <td>7049.JPG</td>\n      <td>2.0</td>\n      <td>['{\"cx\":2678,\"cy\":1486,\"r\":97}', '{\"cx\":2736,\"...</td>\n    </tr>\n    <tr>\n      <th>3642</th>\n      <td>7078.JPG</td>\n      <td>2.0</td>\n      <td>['{\"cx\":3404,\"cy\":3006,\"r\":80}', '{\"cx\":3284,\"...</td>\n    </tr>\n    <tr>\n      <th>4141</th>\n      <td>7577.JPG</td>\n      <td>2.0</td>\n      <td>['{\"cx\":1731,\"cy\":1154,\"r\":111}', '{\"cx\":1869,...</td>\n    </tr>\n    <tr>\n      <th>4286</th>\n      <td>7722.JPG</td>\n      <td>2.0</td>\n      <td>['{\"cx\":2196,\"cy\":108,\"r\":91}', '{\"cx\":2039,\"c...</td>\n    </tr>\n    <tr>\n      <th>4667</th>\n      <td>8103.JPG</td>\n      <td>2.0</td>\n      <td>['{\"cx\":2217,\"cy\":2076,\"r\":92}', '{\"cx\":1976,\"...</td>\n    </tr>\n    <tr>\n      <th>4711</th>\n      <td>8147.JPG</td>\n      <td>2.0</td>\n      <td>['{\"cx\":2271,\"cy\":1760,\"r\":74.847}', '{\"cx\":22...</td>\n    </tr>\n    <tr>\n      <th>4821</th>\n      <td>8257.JPG</td>\n      <td>2.0</td>\n      <td>['{\"cx\":2537,\"cy\":2267,\"r\":100}', '{\"cx\":2653,...</td>\n    </tr>\n    <tr>\n      <th>4944</th>\n      <td>8380.JPG</td>\n      <td>2.0</td>\n      <td>['{\"cx\":2177,\"cy\":1482,\"r\":74}', '{\"cx\":2359,\"...</td>\n    </tr>\n    <tr>\n      <th>5071</th>\n      <td>8507.JPG</td>\n      <td>2.0</td>\n      <td>['{\"cx\":2869,\"cy\":1167,\"r\":82}', '{\"cx\":2973,\"...</td>\n    </tr>\n  </tbody>\n</table>\n</div>"
     },
     "execution_count": 28,
     "metadata": {},
     "output_type": "execute_result"
    }
   ],
   "source": [
    "df[df.count_region == 2]"
   ],
   "metadata": {
    "collapsed": false
   }
  },
  {
   "cell_type": "code",
   "execution_count": 13,
   "outputs": [
    {
     "data": {
      "text/plain": "3.2"
     },
     "execution_count": 13,
     "metadata": {},
     "output_type": "execute_result"
    }
   ],
   "source": [
    "['{\"cx\":3467,\"cy\":1740,\"r\":77}', '{\"cx\":3587,\"cy\":1785,\"r\":79}']"
   ],
   "metadata": {
    "collapsed": false
   }
  },
  {
   "cell_type": "code",
   "execution_count": 34,
   "outputs": [
    {
     "data": {
      "text/plain": "[{'cx': 2902, 'cy': 1824, 'r': 102}, {'cx': 2854, 'cy': 2527, 'r': 92}]"
     },
     "execution_count": 34,
     "metadata": {},
     "output_type": "execute_result"
    }
   ],
   "source": [
    "json.loads(df[df.ID_img == '5824.JPG'].region_shape.iloc[0].replace(\"'\", \"\"))"
   ],
   "metadata": {
    "collapsed": false
   }
  },
  {
   "cell_type": "code",
   "execution_count": 35,
   "outputs": [],
   "source": [
    "def get_bboxes_from_string(label_string):\n",
    "    contents = json.loads(label_string.replace(\"'\", \"\"))\n",
    "    bboxes_list = []\n",
    "    if isinstance(contents, list):\n",
    "        for obj_dict in contents:\n",
    "            cx = obj_dict['cx']\n",
    "            cy = obj_dict['cy']\n",
    "            r = obj_dict['r']\n",
    "            x_0, x_1 = cx - r, cx + r\n",
    "            y_0, y_1 = cy - r, cy + r\n",
    "            bboxes_list.append((x_0, x_1, y_0, y_1))\n",
    "        return bboxes_list\n",
    "    else:\n",
    "        return None"
   ],
   "metadata": {
    "collapsed": false
   }
  },
  {
   "cell_type": "code",
   "execution_count": 39,
   "outputs": [
    {
     "data": {
      "text/plain": "0     5104\n2       31\n1       16\n4        3\n5        3\n3        3\n6        1\n10       1\nName: region_shape, dtype: int64"
     },
     "execution_count": 39,
     "metadata": {},
     "output_type": "execute_result"
    }
   ],
   "source": [
    "df.region_shape.apply(get_bboxes_from_string).value_counts()"
   ],
   "metadata": {
    "collapsed": false
   }
  },
  {
   "cell_type": "code",
   "execution_count": null,
   "outputs": [],
   "source": [],
   "metadata": {
    "collapsed": false
   }
  }
 ],
 "metadata": {
  "kernelspec": {
   "display_name": "Python 3",
   "language": "python",
   "name": "python3"
  },
  "language_info": {
   "codemirror_mode": {
    "name": "ipython",
    "version": 2
   },
   "file_extension": ".py",
   "mimetype": "text/x-python",
   "name": "python",
   "nbconvert_exporter": "python",
   "pygments_lexer": "ipython2",
   "version": "2.7.6"
  }
 },
 "nbformat": 4,
 "nbformat_minor": 0
}
